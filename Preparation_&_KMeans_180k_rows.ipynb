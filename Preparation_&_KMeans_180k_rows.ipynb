{
  "nbformat": 4,
  "nbformat_minor": 0,
  "metadata": {
    "colab": {
      "name": "Preparation & KMeans 180k rows.ipynb",
      "provenance": [],
      "mount_file_id": "1EZtDDuQMKEBHhIp-MsOIgfCa3ZqXOm4W",
      "authorship_tag": "ABX9TyPO/B1YhnDdhGTjFtnGycZb",
      "include_colab_link": true
    },
    "kernelspec": {
      "name": "python3",
      "display_name": "Python 3"
    }
  },
  "cells": [
    {
      "cell_type": "markdown",
      "metadata": {
        "id": "view-in-github",
        "colab_type": "text"
      },
      "source": [
        "<a href=\"https://colab.research.google.com/github/anggithaycs/klastering-titik-api/blob/master/Preparation_%26_KMeans_180k_rows.ipynb\" target=\"_parent\"><img src=\"https://colab.research.google.com/assets/colab-badge.svg\" alt=\"Open In Colab\"/></a>"
      ]
    },
    {
      "cell_type": "code",
      "metadata": {
        "id": "C4HGR48RNHS0",
        "colab_type": "code",
        "colab": {}
      },
      "source": [
        "import matplotlib.pyplot as plt\n",
        "from sklearn.cluster import KMeans\n",
        "import pandas as pd\n",
        "import numpy as np\n",
        "from sklearn.preprocessing import MinMaxScaler \n",
        "from sklearn.decomposition import PCA\n",
        "from sklearn import metrics"
      ],
      "execution_count": 0,
      "outputs": []
    },
    {
      "cell_type": "code",
      "metadata": {
        "id": "LlJEFl52ntu1",
        "colab_type": "code",
        "colab": {}
      },
      "source": [
        "df = pd.read_csv(\"drive/My Drive/Damin/fire_archive_raw.csv\")"
      ],
      "execution_count": 0,
      "outputs": []
    },
    {
      "cell_type": "markdown",
      "metadata": {
        "id": "574LsdGwOFpc",
        "colab_type": "text"
      },
      "source": [
        "#Preprocessing\n",
        "\n",
        "1.   Removing unnecessary columns\n",
        "2.   Data Scaling using MinMax Scaler"
      ]
    },
    {
      "cell_type": "code",
      "metadata": {
        "id": "srvGpHdCOBj5",
        "colab_type": "code",
        "outputId": "2b7604b6-deee-4a1f-8364-40b030486093",
        "colab": {
          "base_uri": "https://localhost:8080/",
          "height": 301
        }
      },
      "source": [
        "df.head()"
      ],
      "execution_count": 0,
      "outputs": [
        {
          "output_type": "execute_result",
          "data": {
            "text/html": [
              "<div>\n",
              "<style scoped>\n",
              "    .dataframe tbody tr th:only-of-type {\n",
              "        vertical-align: middle;\n",
              "    }\n",
              "\n",
              "    .dataframe tbody tr th {\n",
              "        vertical-align: top;\n",
              "    }\n",
              "\n",
              "    .dataframe thead th {\n",
              "        text-align: right;\n",
              "    }\n",
              "</style>\n",
              "<table border=\"1\" class=\"dataframe\">\n",
              "  <thead>\n",
              "    <tr style=\"text-align: right;\">\n",
              "      <th></th>\n",
              "      <th>latitude</th>\n",
              "      <th>longitude</th>\n",
              "      <th>bright_ti4</th>\n",
              "      <th>scan</th>\n",
              "      <th>track</th>\n",
              "      <th>acq_date</th>\n",
              "      <th>acq_time</th>\n",
              "      <th>satellite</th>\n",
              "      <th>instrument</th>\n",
              "      <th>confidence</th>\n",
              "      <th>version</th>\n",
              "      <th>bright_ti5</th>\n",
              "      <th>frp</th>\n",
              "      <th>type</th>\n",
              "    </tr>\n",
              "  </thead>\n",
              "  <tbody>\n",
              "    <tr>\n",
              "      <th>0</th>\n",
              "      <td>-2.78686</td>\n",
              "      <td>120.37390</td>\n",
              "      <td>325.5</td>\n",
              "      <td>0.57</td>\n",
              "      <td>0.52</td>\n",
              "      <td>2018-01-01</td>\n",
              "      <td>455</td>\n",
              "      <td>N</td>\n",
              "      <td>VIIRS</td>\n",
              "      <td>n</td>\n",
              "      <td>1</td>\n",
              "      <td>290.7</td>\n",
              "      <td>4.7</td>\n",
              "      <td>0</td>\n",
              "    </tr>\n",
              "    <tr>\n",
              "      <th>1</th>\n",
              "      <td>-0.82440</td>\n",
              "      <td>127.86865</td>\n",
              "      <td>332.6</td>\n",
              "      <td>0.39</td>\n",
              "      <td>0.36</td>\n",
              "      <td>2018-01-01</td>\n",
              "      <td>455</td>\n",
              "      <td>N</td>\n",
              "      <td>VIIRS</td>\n",
              "      <td>n</td>\n",
              "      <td>1</td>\n",
              "      <td>292.5</td>\n",
              "      <td>3.7</td>\n",
              "      <td>3</td>\n",
              "    </tr>\n",
              "    <tr>\n",
              "      <th>2</th>\n",
              "      <td>-1.43265</td>\n",
              "      <td>132.32120</td>\n",
              "      <td>333.3</td>\n",
              "      <td>0.57</td>\n",
              "      <td>0.43</td>\n",
              "      <td>2018-01-01</td>\n",
              "      <td>455</td>\n",
              "      <td>N</td>\n",
              "      <td>VIIRS</td>\n",
              "      <td>n</td>\n",
              "      <td>1</td>\n",
              "      <td>290.1</td>\n",
              "      <td>5.5</td>\n",
              "      <td>0</td>\n",
              "    </tr>\n",
              "    <tr>\n",
              "      <th>3</th>\n",
              "      <td>0.90354</td>\n",
              "      <td>127.62830</td>\n",
              "      <td>337.7</td>\n",
              "      <td>0.39</td>\n",
              "      <td>0.36</td>\n",
              "      <td>2018-01-01</td>\n",
              "      <td>456</td>\n",
              "      <td>N</td>\n",
              "      <td>VIIRS</td>\n",
              "      <td>n</td>\n",
              "      <td>1</td>\n",
              "      <td>296.4</td>\n",
              "      <td>8.2</td>\n",
              "      <td>0</td>\n",
              "    </tr>\n",
              "    <tr>\n",
              "      <th>4</th>\n",
              "      <td>-0.86484</td>\n",
              "      <td>122.20721</td>\n",
              "      <td>329.5</td>\n",
              "      <td>0.40</td>\n",
              "      <td>0.44</td>\n",
              "      <td>2018-01-01</td>\n",
              "      <td>456</td>\n",
              "      <td>N</td>\n",
              "      <td>VIIRS</td>\n",
              "      <td>n</td>\n",
              "      <td>1</td>\n",
              "      <td>287.4</td>\n",
              "      <td>2.2</td>\n",
              "      <td>0</td>\n",
              "    </tr>\n",
              "  </tbody>\n",
              "</table>\n",
              "</div>"
            ],
            "text/plain": [
              "   latitude  longitude  bright_ti4  scan  ...  version bright_ti5  frp type\n",
              "0  -2.78686  120.37390       325.5  0.57  ...        1      290.7  4.7    0\n",
              "1  -0.82440  127.86865       332.6  0.39  ...        1      292.5  3.7    3\n",
              "2  -1.43265  132.32120       333.3  0.57  ...        1      290.1  5.5    0\n",
              "3   0.90354  127.62830       337.7  0.39  ...        1      296.4  8.2    0\n",
              "4  -0.86484  122.20721       329.5  0.40  ...        1      287.4  2.2    0\n",
              "\n",
              "[5 rows x 14 columns]"
            ]
          },
          "metadata": {
            "tags": []
          },
          "execution_count": 3
        }
      ]
    },
    {
      "cell_type": "code",
      "metadata": {
        "id": "ILYP078BOO-I",
        "colab_type": "code",
        "colab": {}
      },
      "source": [
        "df.drop(df.columns[df.columns.str.contains('scan',case = False)],axis = 1, inplace = True)\n",
        "df.drop(df.columns[df.columns.str.contains('track',case = False)],axis = 1, inplace = True)\n",
        "df.drop(df.columns[df.columns.str.contains('acq_date',case = False)],axis = 1, inplace = True)\n",
        "df.drop(df.columns[df.columns.str.contains('acq_time',case = False)],axis = 1, inplace = True)\n",
        "df.drop(df.columns[df.columns.str.contains('satellite',case = False)],axis = 1, inplace = True)\n",
        "df.drop(df.columns[df.columns.str.contains('instrument',case = False)],axis = 1, inplace = True)\n",
        "df.drop(df.columns[df.columns.str.contains('version',case = False)],axis = 1, inplace = True)\n",
        "df.drop(df.columns[df.columns.str.contains('type',case = False)],axis = 1, inplace = True)\n",
        "df.drop(df.columns[df.columns.str.contains('confidence',case = False)],axis = 1, inplace = True)"
      ],
      "execution_count": 0,
      "outputs": []
    },
    {
      "cell_type": "code",
      "metadata": {
        "id": "WcqjaLM3gy_f",
        "colab_type": "code",
        "colab": {}
      },
      "source": [
        "df.to_csv(\"drive/My Drive/Damin/fire_archive.csv\", index=False)\n",
        "#Fire archive file yang ini menyisakan 5 cols."
      ],
      "execution_count": 0,
      "outputs": []
    },
    {
      "cell_type": "code",
      "metadata": {
        "id": "0F3rSle4gnsO",
        "colab_type": "code",
        "colab": {}
      },
      "source": [
        "df = df.sample(n=25000)"
      ],
      "execution_count": 0,
      "outputs": []
    },
    {
      "cell_type": "code",
      "metadata": {
        "id": "EKROkgBelSD-",
        "colab_type": "code",
        "colab": {}
      },
      "source": [
        "df.to_csv(\"drive/My Drive/Damin/25k_fire_archive.csv\", index=False)"
      ],
      "execution_count": 0,
      "outputs": []
    },
    {
      "cell_type": "code",
      "metadata": {
        "id": "y8YwRX8GR1bR",
        "colab_type": "code",
        "colab": {}
      },
      "source": [
        "mms = MinMaxScaler()\n",
        "df_scale= mms.fit_transform(df)\n",
        "df_scale = pd.DataFrame(df_scale,columns=df.columns)"
      ],
      "execution_count": 0,
      "outputs": []
    },
    {
      "cell_type": "code",
      "metadata": {
        "id": "KMmsUQY_mk74",
        "colab_type": "code",
        "colab": {}
      },
      "source": [
        "df_scale.to_csv(\"drive/My Drive/Damin/scaled_fire_archive.csv\", index=False)\n",
        "#File hasil scaling"
      ],
      "execution_count": 0,
      "outputs": []
    },
    {
      "cell_type": "code",
      "metadata": {
        "id": "PDk1tn2IbIZu",
        "colab_type": "code",
        "outputId": "0903b6b5-bb8f-4571-fe15-dcd495c0c5e4",
        "colab": {
          "base_uri": "https://localhost:8080/",
          "height": 197
        }
      },
      "source": [
        "df_scale.head()"
      ],
      "execution_count": 0,
      "outputs": [
        {
          "output_type": "execute_result",
          "data": {
            "text/html": [
              "<div>\n",
              "<style scoped>\n",
              "    .dataframe tbody tr th:only-of-type {\n",
              "        vertical-align: middle;\n",
              "    }\n",
              "\n",
              "    .dataframe tbody tr th {\n",
              "        vertical-align: top;\n",
              "    }\n",
              "\n",
              "    .dataframe thead th {\n",
              "        text-align: right;\n",
              "    }\n",
              "</style>\n",
              "<table border=\"1\" class=\"dataframe\">\n",
              "  <thead>\n",
              "    <tr style=\"text-align: right;\">\n",
              "      <th></th>\n",
              "      <th>latitude</th>\n",
              "      <th>longitude</th>\n",
              "      <th>bright_ti4</th>\n",
              "      <th>bright_ti5</th>\n",
              "      <th>frp</th>\n",
              "    </tr>\n",
              "  </thead>\n",
              "  <tbody>\n",
              "    <tr>\n",
              "      <th>0</th>\n",
              "      <td>0.681121</td>\n",
              "      <td>0.323906</td>\n",
              "      <td>0.857862</td>\n",
              "      <td>0.325088</td>\n",
              "      <td>0.039637</td>\n",
              "    </tr>\n",
              "    <tr>\n",
              "      <th>1</th>\n",
              "      <td>0.148828</td>\n",
              "      <td>0.628303</td>\n",
              "      <td>0.845912</td>\n",
              "      <td>0.425795</td>\n",
              "      <td>0.007307</td>\n",
              "    </tr>\n",
              "    <tr>\n",
              "      <th>2</th>\n",
              "      <td>0.223752</td>\n",
              "      <td>0.249071</td>\n",
              "      <td>0.784277</td>\n",
              "      <td>0.449647</td>\n",
              "      <td>0.004429</td>\n",
              "    </tr>\n",
              "    <tr>\n",
              "      <th>3</th>\n",
              "      <td>0.160628</td>\n",
              "      <td>0.781454</td>\n",
              "      <td>0.881132</td>\n",
              "      <td>0.424028</td>\n",
              "      <td>0.013286</td>\n",
              "    </tr>\n",
              "    <tr>\n",
              "      <th>4</th>\n",
              "      <td>0.141966</td>\n",
              "      <td>0.516287</td>\n",
              "      <td>0.909434</td>\n",
              "      <td>0.450530</td>\n",
              "      <td>0.029894</td>\n",
              "    </tr>\n",
              "  </tbody>\n",
              "</table>\n",
              "</div>"
            ],
            "text/plain": [
              "   latitude  longitude  bright_ti4  bright_ti5       frp\n",
              "0  0.681121   0.323906    0.857862    0.325088  0.039637\n",
              "1  0.148828   0.628303    0.845912    0.425795  0.007307\n",
              "2  0.223752   0.249071    0.784277    0.449647  0.004429\n",
              "3  0.160628   0.781454    0.881132    0.424028  0.013286\n",
              "4  0.141966   0.516287    0.909434    0.450530  0.029894"
            ]
          },
          "metadata": {
            "tags": []
          },
          "execution_count": 10
        }
      ]
    },
    {
      "cell_type": "code",
      "metadata": {
        "id": "9sPY7-ylm4mO",
        "colab_type": "code",
        "colab": {}
      },
      "source": [
        "df = df_scale"
      ],
      "execution_count": 0,
      "outputs": []
    },
    {
      "cell_type": "markdown",
      "metadata": {
        "id": "gGrxLoF_WzZp",
        "colab_type": "text"
      },
      "source": [
        "#K-Means Clustering\n",
        "> Perform the K-Means Clustering using 6 attributes for k = 2, 3, 4, 5, 6"
      ]
    },
    {
      "cell_type": "markdown",
      "metadata": {
        "id": "pqXYlQOTXH4L",
        "colab_type": "text"
      },
      "source": [
        "## Cluster = 2\n"
      ]
    },
    {
      "cell_type": "code",
      "metadata": {
        "id": "mqVGhg-zegNJ",
        "colab_type": "code",
        "colab": {}
      },
      "source": [
        "df_2c = pd.DataFrame(df_scale)"
      ],
      "execution_count": 0,
      "outputs": []
    },
    {
      "cell_type": "code",
      "metadata": {
        "id": "L4iTLxNXj_8e",
        "colab_type": "code",
        "colab": {}
      },
      "source": [
        "clustering_kmeans = KMeans(n_clusters=2)\n",
        "df_2c['cluster'] = clustering_kmeans.fit_predict(df_2c)"
      ],
      "execution_count": 0,
      "outputs": []
    },
    {
      "cell_type": "code",
      "metadata": {
        "id": "i-GXqHGh6ml2",
        "colab_type": "code",
        "colab": {}
      },
      "source": [
        "cluster_df_2c = df_2c['cluster']"
      ],
      "execution_count": 0,
      "outputs": []
    },
    {
      "cell_type": "code",
      "metadata": {
        "id": "QesLIa3qeyd7",
        "colab_type": "code",
        "colab": {}
      },
      "source": [
        "df_2c.loc[df_2c['cluster'] == 0, 'color'] = 'r'\n",
        "df_2c.loc[df_2c['cluster'] == 1, 'color'] = 'g'"
      ],
      "execution_count": 0,
      "outputs": []
    },
    {
      "cell_type": "code",
      "metadata": {
        "id": "i49Hda8AThnl",
        "colab_type": "code",
        "outputId": "72aaf93e-d0be-47cf-a783-53b5df2e51f2",
        "colab": {
          "base_uri": "https://localhost:8080/",
          "height": 197
        }
      },
      "source": [
        "df_2c.head()"
      ],
      "execution_count": 0,
      "outputs": [
        {
          "output_type": "execute_result",
          "data": {
            "text/html": [
              "<div>\n",
              "<style scoped>\n",
              "    .dataframe tbody tr th:only-of-type {\n",
              "        vertical-align: middle;\n",
              "    }\n",
              "\n",
              "    .dataframe tbody tr th {\n",
              "        vertical-align: top;\n",
              "    }\n",
              "\n",
              "    .dataframe thead th {\n",
              "        text-align: right;\n",
              "    }\n",
              "</style>\n",
              "<table border=\"1\" class=\"dataframe\">\n",
              "  <thead>\n",
              "    <tr style=\"text-align: right;\">\n",
              "      <th></th>\n",
              "      <th>latitude</th>\n",
              "      <th>longitude</th>\n",
              "      <th>bright_ti4</th>\n",
              "      <th>bright_ti5</th>\n",
              "      <th>frp</th>\n",
              "      <th>cluster</th>\n",
              "      <th>color</th>\n",
              "    </tr>\n",
              "  </thead>\n",
              "  <tbody>\n",
              "    <tr>\n",
              "      <th>0</th>\n",
              "      <td>0.681121</td>\n",
              "      <td>0.323906</td>\n",
              "      <td>0.857862</td>\n",
              "      <td>0.325088</td>\n",
              "      <td>0.039637</td>\n",
              "      <td>1</td>\n",
              "      <td>g</td>\n",
              "    </tr>\n",
              "    <tr>\n",
              "      <th>1</th>\n",
              "      <td>0.148828</td>\n",
              "      <td>0.628303</td>\n",
              "      <td>0.845912</td>\n",
              "      <td>0.425795</td>\n",
              "      <td>0.007307</td>\n",
              "      <td>0</td>\n",
              "      <td>r</td>\n",
              "    </tr>\n",
              "    <tr>\n",
              "      <th>2</th>\n",
              "      <td>0.223752</td>\n",
              "      <td>0.249071</td>\n",
              "      <td>0.784277</td>\n",
              "      <td>0.449647</td>\n",
              "      <td>0.004429</td>\n",
              "      <td>1</td>\n",
              "      <td>g</td>\n",
              "    </tr>\n",
              "    <tr>\n",
              "      <th>3</th>\n",
              "      <td>0.160628</td>\n",
              "      <td>0.781454</td>\n",
              "      <td>0.881132</td>\n",
              "      <td>0.424028</td>\n",
              "      <td>0.013286</td>\n",
              "      <td>0</td>\n",
              "      <td>r</td>\n",
              "    </tr>\n",
              "    <tr>\n",
              "      <th>4</th>\n",
              "      <td>0.141966</td>\n",
              "      <td>0.516287</td>\n",
              "      <td>0.909434</td>\n",
              "      <td>0.450530</td>\n",
              "      <td>0.029894</td>\n",
              "      <td>0</td>\n",
              "      <td>r</td>\n",
              "    </tr>\n",
              "  </tbody>\n",
              "</table>\n",
              "</div>"
            ],
            "text/plain": [
              "   latitude  longitude  bright_ti4  bright_ti5       frp  cluster color\n",
              "0  0.681121   0.323906    0.857862    0.325088  0.039637        1     g\n",
              "1  0.148828   0.628303    0.845912    0.425795  0.007307        0     r\n",
              "2  0.223752   0.249071    0.784277    0.449647  0.004429        1     g\n",
              "3  0.160628   0.781454    0.881132    0.424028  0.013286        0     r\n",
              "4  0.141966   0.516287    0.909434    0.450530  0.029894        0     r"
            ]
          },
          "metadata": {
            "tags": []
          },
          "execution_count": 32
        }
      ]
    },
    {
      "cell_type": "code",
      "metadata": {
        "id": "StXvyByAfYlr",
        "colab_type": "code",
        "outputId": "60448221-2548-4e32-f2b0-f7dc40f98d62",
        "colab": {
          "base_uri": "https://localhost:8080/",
          "height": 336
        }
      },
      "source": [
        "fig = plt.figure(figsize=(5,5))\n",
        "plt.scatter(df_2c['longitude'], df_2c['latitude'], color =df_2c['color'])\n",
        "plt.title('K-Means Clustering with 2 cluster')\n",
        "plt.xlim(-0.25,1.25) \n",
        "plt.ylim(-0.25,1.25)\n",
        "plt.show()"
      ],
      "execution_count": 0,
      "outputs": [
        {
          "output_type": "display_data",
          "data": {
            "image/png": "[encoded data removed]",
            "text/plain": [
              "<Figure size 360x360 with 1 Axes>"
            ]
          },
          "metadata": {
            "tags": [],
            "needs_background": "light"
          }
        }
      ]
    },
    {
      "cell_type": "code",
      "metadata": {
        "id": "B5p32ncW9_IE",
        "colab_type": "code",
        "outputId": "4e284f47-737e-4ed9-c6fb-af27745780b9",
        "colab": {
          "base_uri": "https://localhost:8080/",
          "height": 67
        }
      },
      "source": [
        "df_2c['cluster'].value_counts()"
      ],
      "execution_count": 0,
      "outputs": [
        {
          "output_type": "execute_result",
          "data": {
            "text/plain": [
              "1    15550\n",
              "0     9450\n",
              "Name: cluster, dtype: int64"
            ]
          },
          "metadata": {
            "tags": []
          },
          "execution_count": 36
        }
      ]
    },
    {
      "cell_type": "code",
      "metadata": {
        "id": "kkn6MVUz9pZC",
        "colab_type": "code",
        "colab": {}
      },
      "source": [
        "df_2c.drop(df_2c.columns[df_2c.columns.str.contains('color',case = False)],axis = 1, inplace = True)"
      ],
      "execution_count": 0,
      "outputs": []
    },
    {
      "cell_type": "code",
      "metadata": {
        "id": "UuZ37V4-6FFB",
        "colab_type": "code",
        "outputId": "7fc7170f-e443-44b3-86b6-7ff4f667131f",
        "colab": {
          "base_uri": "https://localhost:8080/",
          "height": 33
        }
      },
      "source": [
        "silhouette_avg = metrics.silhouette_score(df_2c, cluster_df_2c)\n",
        "print ('silhouette coefficient for the clustering above = ', silhouette_avg)"
      ],
      "execution_count": 0,
      "outputs": [
        {
          "output_type": "stream",
          "text": [
            "silhouette coefficient for the clustering above =  0.7286688726144976\n"
          ],
          "name": "stdout"
        }
      ]
    },
    {
      "cell_type": "markdown",
      "metadata": {
        "id": "pCg1_pwcapYt",
        "colab_type": "text"
      },
      "source": [
        "##Cluster = 3"
      ]
    },
    {
      "cell_type": "code",
      "metadata": {
        "id": "kwnjN5xDnxaa",
        "colab_type": "code",
        "colab": {}
      },
      "source": [
        "df_scaled = pd.read_csv(\"drive/My Drive/Damin/scaled_fire_archive.csv\")"
      ],
      "execution_count": 0,
      "outputs": []
    },
    {
      "cell_type": "code",
      "metadata": {
        "id": "fn5_Sh83iH8T",
        "colab_type": "code",
        "colab": {}
      },
      "source": [
        "df_3c = df_scaled\n",
        "\n",
        "clustering_kmeans = KMeans(n_clusters=3)\n",
        "df_3c['cluster'] = clustering_kmeans.fit_predict(df_3c)\n",
        "\n",
        "df_3c.loc[df_3c['cluster'] == 0, 'color'] = 'r'\n",
        "df_3c.loc[df_3c['cluster'] == 1, 'color'] = 'g'\n",
        "df_3c.loc[df_3c['cluster'] == 2, 'color'] = 'b'"
      ],
      "execution_count": 0,
      "outputs": []
    },
    {
      "cell_type": "code",
      "metadata": {
        "id": "UFFwn8XQglQE",
        "colab_type": "code",
        "outputId": "4ef9a72c-a5b2-43aa-e774-66f57485c342",
        "colab": {
          "base_uri": "https://localhost:8080/",
          "height": 197
        }
      },
      "source": [
        "df_3c.head()"
      ],
      "execution_count": 0,
      "outputs": [
        {
          "output_type": "execute_result",
          "data": {
            "text/html": [
              "<div>\n",
              "<style scoped>\n",
              "    .dataframe tbody tr th:only-of-type {\n",
              "        vertical-align: middle;\n",
              "    }\n",
              "\n",
              "    .dataframe tbody tr th {\n",
              "        vertical-align: top;\n",
              "    }\n",
              "\n",
              "    .dataframe thead th {\n",
              "        text-align: right;\n",
              "    }\n",
              "</style>\n",
              "<table border=\"1\" class=\"dataframe\">\n",
              "  <thead>\n",
              "    <tr style=\"text-align: right;\">\n",
              "      <th></th>\n",
              "      <th>latitude</th>\n",
              "      <th>longitude</th>\n",
              "      <th>bright_ti4</th>\n",
              "      <th>bright_ti5</th>\n",
              "      <th>frp</th>\n",
              "      <th>cluster</th>\n",
              "      <th>color</th>\n",
              "    </tr>\n",
              "  </thead>\n",
              "  <tbody>\n",
              "    <tr>\n",
              "      <th>0</th>\n",
              "      <td>0.681121</td>\n",
              "      <td>0.323906</td>\n",
              "      <td>0.857862</td>\n",
              "      <td>0.325088</td>\n",
              "      <td>0.039637</td>\n",
              "      <td>2</td>\n",
              "      <td>b</td>\n",
              "    </tr>\n",
              "    <tr>\n",
              "      <th>1</th>\n",
              "      <td>0.148828</td>\n",
              "      <td>0.628303</td>\n",
              "      <td>0.845912</td>\n",
              "      <td>0.425795</td>\n",
              "      <td>0.007307</td>\n",
              "      <td>0</td>\n",
              "      <td>r</td>\n",
              "    </tr>\n",
              "    <tr>\n",
              "      <th>2</th>\n",
              "      <td>0.223752</td>\n",
              "      <td>0.249071</td>\n",
              "      <td>0.784277</td>\n",
              "      <td>0.449647</td>\n",
              "      <td>0.004429</td>\n",
              "      <td>0</td>\n",
              "      <td>r</td>\n",
              "    </tr>\n",
              "    <tr>\n",
              "      <th>3</th>\n",
              "      <td>0.160628</td>\n",
              "      <td>0.781454</td>\n",
              "      <td>0.881132</td>\n",
              "      <td>0.424028</td>\n",
              "      <td>0.013286</td>\n",
              "      <td>1</td>\n",
              "      <td>g</td>\n",
              "    </tr>\n",
              "    <tr>\n",
              "      <th>4</th>\n",
              "      <td>0.141966</td>\n",
              "      <td>0.516287</td>\n",
              "      <td>0.909434</td>\n",
              "      <td>0.450530</td>\n",
              "      <td>0.029894</td>\n",
              "      <td>0</td>\n",
              "      <td>r</td>\n",
              "    </tr>\n",
              "  </tbody>\n",
              "</table>\n",
              "</div>"
            ],
            "text/plain": [
              "   latitude  longitude  bright_ti4  bright_ti5       frp  cluster color\n",
              "0  0.681121   0.323906    0.857862    0.325088  0.039637        2     b\n",
              "1  0.148828   0.628303    0.845912    0.425795  0.007307        0     r\n",
              "2  0.223752   0.249071    0.784277    0.449647  0.004429        0     r\n",
              "3  0.160628   0.781454    0.881132    0.424028  0.013286        1     g\n",
              "4  0.141966   0.516287    0.909434    0.450530  0.029894        0     r"
            ]
          },
          "metadata": {
            "tags": []
          },
          "execution_count": 41
        }
      ]
    },
    {
      "cell_type": "code",
      "metadata": {
        "id": "Ej95Yc_8ln81",
        "colab_type": "code",
        "outputId": "1e8605e5-6bb5-4fa7-9c1f-fe33d8117284",
        "colab": {
          "base_uri": "https://localhost:8080/",
          "height": 336
        }
      },
      "source": [
        "fig = plt.figure(figsize=(5,5))\n",
        "plt.scatter(df_3c['longitude'], df_3c['latitude'], color =df_3c['color'])\n",
        "plt.title('K-Means Clustering with 3 cluster')\n",
        "plt.xlim(-0.25,1.25) \n",
        "plt.ylim(-0.25,1.25)\n",
        "plt.show()"
      ],
      "execution_count": 0,
      "outputs": [
        {
          "output_type": "display_data",
          "data": {
            "image/png": "[encoded data removed]",
            "text/plain": [
              "<Figure size 360x360 with 1 Axes>"
            ]
          },
          "metadata": {
            "tags": [],
            "needs_background": "light"
          }
        }
      ]
    },
    {
      "cell_type": "code",
      "metadata": {
        "id": "d5qah12NAVle",
        "colab_type": "code",
        "colab": {}
      },
      "source": [
        "df_3c.drop(df_3c.columns[df_3c.columns.str.contains('color',case = False)],axis = 1, inplace = True)"
      ],
      "execution_count": 0,
      "outputs": []
    },
    {
      "cell_type": "code",
      "metadata": {
        "id": "7EKvD2zxAid7",
        "colab_type": "code",
        "outputId": "1cfd76fd-cd1d-4a89-b319-8bcd2ee087cc",
        "colab": {
          "base_uri": "https://localhost:8080/",
          "height": 33
        }
      },
      "source": [
        "silhouette_avg = metrics.silhouette_score(df_3c, df_3c['cluster'])\n",
        "print ('silhouette coefficient for the above clutering = ', silhouette_avg)"
      ],
      "execution_count": 0,
      "outputs": [
        {
          "output_type": "stream",
          "text": [
            "silhouette coefficient for the above clutering =  0.7760020645861937\n"
          ],
          "name": "stdout"
        }
      ]
    },
    {
      "cell_type": "markdown",
      "metadata": {
        "id": "m8Uz9jlRokbs",
        "colab_type": "text"
      },
      "source": [
        "##Cluster = 4"
      ]
    },
    {
      "cell_type": "code",
      "metadata": {
        "colab_type": "code",
        "id": "EIgsbCG3oz5i",
        "colab": {}
      },
      "source": [
        "df_scaled = pd.read_csv(\"drive/My Drive/Damin/scaled_fire_archive.csv\")"
      ],
      "execution_count": 0,
      "outputs": []
    },
    {
      "cell_type": "code",
      "metadata": {
        "colab_type": "code",
        "id": "jAMupsrfoz5n",
        "colab": {}
      },
      "source": [
        "df_4c = df_scaled\n",
        "\n",
        "clustering_kmeans = KMeans(n_clusters=4)\n",
        "df_4c['cluster'] = clustering_kmeans.fit_predict(df_4c)\n",
        "\n",
        "df_4c.loc[df_4c['cluster'] == 0, 'color'] = 'r'\n",
        "df_4c.loc[df_4c['cluster'] == 1, 'color'] = 'g'\n",
        "df_4c.loc[df_4c['cluster'] == 2, 'color'] = 'b'\n",
        "df_4c.loc[df_4c['cluster'] == 3, 'color'] = 'y'"
      ],
      "execution_count": 0,
      "outputs": []
    },
    {
      "cell_type": "code",
      "metadata": {
        "colab_type": "code",
        "id": "S8oG56qBoz5p",
        "outputId": "731b8599-e85d-476a-cadd-9c1eefcc1187",
        "colab": {
          "base_uri": "https://localhost:8080/",
          "height": 197
        }
      },
      "source": [
        "df_4c.head()"
      ],
      "execution_count": 0,
      "outputs": [
        {
          "output_type": "execute_result",
          "data": {
            "text/html": [
              "<div>\n",
              "<style scoped>\n",
              "    .dataframe tbody tr th:only-of-type {\n",
              "        vertical-align: middle;\n",
              "    }\n",
              "\n",
              "    .dataframe tbody tr th {\n",
              "        vertical-align: top;\n",
              "    }\n",
              "\n",
              "    .dataframe thead th {\n",
              "        text-align: right;\n",
              "    }\n",
              "</style>\n",
              "<table border=\"1\" class=\"dataframe\">\n",
              "  <thead>\n",
              "    <tr style=\"text-align: right;\">\n",
              "      <th></th>\n",
              "      <th>latitude</th>\n",
              "      <th>longitude</th>\n",
              "      <th>bright_ti4</th>\n",
              "      <th>bright_ti5</th>\n",
              "      <th>frp</th>\n",
              "      <th>cluster</th>\n",
              "      <th>color</th>\n",
              "    </tr>\n",
              "  </thead>\n",
              "  <tbody>\n",
              "    <tr>\n",
              "      <th>0</th>\n",
              "      <td>0.681121</td>\n",
              "      <td>0.323906</td>\n",
              "      <td>0.857862</td>\n",
              "      <td>0.325088</td>\n",
              "      <td>0.039637</td>\n",
              "      <td>1</td>\n",
              "      <td>g</td>\n",
              "    </tr>\n",
              "    <tr>\n",
              "      <th>1</th>\n",
              "      <td>0.148828</td>\n",
              "      <td>0.628303</td>\n",
              "      <td>0.845912</td>\n",
              "      <td>0.425795</td>\n",
              "      <td>0.007307</td>\n",
              "      <td>3</td>\n",
              "      <td>y</td>\n",
              "    </tr>\n",
              "    <tr>\n",
              "      <th>2</th>\n",
              "      <td>0.223752</td>\n",
              "      <td>0.249071</td>\n",
              "      <td>0.784277</td>\n",
              "      <td>0.449647</td>\n",
              "      <td>0.004429</td>\n",
              "      <td>3</td>\n",
              "      <td>y</td>\n",
              "    </tr>\n",
              "    <tr>\n",
              "      <th>3</th>\n",
              "      <td>0.160628</td>\n",
              "      <td>0.781454</td>\n",
              "      <td>0.881132</td>\n",
              "      <td>0.424028</td>\n",
              "      <td>0.013286</td>\n",
              "      <td>2</td>\n",
              "      <td>b</td>\n",
              "    </tr>\n",
              "    <tr>\n",
              "      <th>4</th>\n",
              "      <td>0.141966</td>\n",
              "      <td>0.516287</td>\n",
              "      <td>0.909434</td>\n",
              "      <td>0.450530</td>\n",
              "      <td>0.029894</td>\n",
              "      <td>3</td>\n",
              "      <td>y</td>\n",
              "    </tr>\n",
              "  </tbody>\n",
              "</table>\n",
              "</div>"
            ],
            "text/plain": [
              "   latitude  longitude  bright_ti4  bright_ti5       frp  cluster color\n",
              "0  0.681121   0.323906    0.857862    0.325088  0.039637        1     g\n",
              "1  0.148828   0.628303    0.845912    0.425795  0.007307        3     y\n",
              "2  0.223752   0.249071    0.784277    0.449647  0.004429        3     y\n",
              "3  0.160628   0.781454    0.881132    0.424028  0.013286        2     b\n",
              "4  0.141966   0.516287    0.909434    0.450530  0.029894        3     y"
            ]
          },
          "metadata": {
            "tags": []
          },
          "execution_count": 49
        }
      ]
    },
    {
      "cell_type": "code",
      "metadata": {
        "colab_type": "code",
        "id": "BLjHaLcNoz5t",
        "outputId": "53006ea7-6501-4fe4-d6de-74ca17a51e89",
        "colab": {
          "base_uri": "https://localhost:8080/",
          "height": 336
        }
      },
      "source": [
        "fig = plt.figure(figsize=(5,5))\n",
        "plt.scatter(df_4c['longitude'], df_4c['latitude'], color =df_4c['color'])\n",
        "plt.title('K-Means Clustering with 4 cluster')\n",
        "plt.xlim(-0.25,1.25) \n",
        "plt.ylim(-0.25,1.25)\n",
        "plt.show()"
      ],
      "execution_count": 0,
      "outputs": [
        {
          "output_type": "display_data",
          "data": {
            "image/png": "[encoded data removed]",
            "text/plain": [
              "<Figure size 360x360 with 1 Axes>"
            ]
          },
          "metadata": {
            "tags": [],
            "needs_background": "light"
          }
        }
      ]
    },
    {
      "cell_type": "code",
      "metadata": {
        "id": "feuATiGZBR5V",
        "colab_type": "code",
        "colab": {}
      },
      "source": [
        "df_4c.drop(df_4c.columns[df_4c.columns.str.contains('color',case = False)],axis = 1, inplace = True)"
      ],
      "execution_count": 0,
      "outputs": []
    },
    {
      "cell_type": "code",
      "metadata": {
        "id": "RVa5qGxkCDs-",
        "colab_type": "code",
        "outputId": "e1e01b6a-7cf0-4e9a-b7c8-2bec2d49be4a",
        "colab": {
          "base_uri": "https://localhost:8080/",
          "height": 33
        }
      },
      "source": [
        "silhouette_avg = metrics.silhouette_score(df_4c, df_4c['cluster'])\n",
        "print ('silhouette coefficient for the above clutering = ', silhouette_avg)"
      ],
      "execution_count": 0,
      "outputs": [
        {
          "output_type": "stream",
          "text": [
            "silhouette coefficient for the above clutering =  0.7770490732185806\n"
          ],
          "name": "stdout"
        }
      ]
    },
    {
      "cell_type": "markdown",
      "metadata": {
        "id": "YmbJDFTSo2Zg",
        "colab_type": "text"
      },
      "source": [
        "##Cluster = 5"
      ]
    },
    {
      "cell_type": "code",
      "metadata": {
        "colab_type": "code",
        "id": "9_CAM93zo5FD",
        "colab": {}
      },
      "source": [
        "df_scaled = pd.read_csv(\"drive/My Drive/Damin/scaled_fire_archive.csv\")"
      ],
      "execution_count": 0,
      "outputs": []
    },
    {
      "cell_type": "code",
      "metadata": {
        "colab_type": "code",
        "id": "DuLg_5d2o5FF",
        "colab": {}
      },
      "source": [
        "df_5c = df_scaled\n",
        "\n",
        "clustering_kmeans = KMeans(n_clusters=5)\n",
        "df_5c['cluster'] = clustering_kmeans.fit_predict(df_5c)\n",
        "\n",
        "df_5c.loc[df_5c['cluster'] == 0, 'color'] = 'r'\n",
        "df_5c.loc[df_5c['cluster'] == 1, 'color'] = 'g'\n",
        "df_5c.loc[df_5c['cluster'] == 2, 'color'] = 'b'\n",
        "df_5c.loc[df_5c['cluster'] == 3, 'color'] = 'y'\n",
        "df_5c.loc[df_5c['cluster'] == 4, 'color'] = 'c'"
      ],
      "execution_count": 0,
      "outputs": []
    },
    {
      "cell_type": "code",
      "metadata": {
        "colab_type": "code",
        "id": "VzNMTigNo5FL",
        "outputId": "30ef91f7-c303-4826-9d2b-f8ed022fe3b0",
        "colab": {
          "base_uri": "https://localhost:8080/",
          "height": 336
        }
      },
      "source": [
        "fig = plt.figure(figsize=(5,5))\n",
        "plt.scatter(df_5c['longitude'], df_5c['latitude'], color =df_5c['color'])\n",
        "plt.title('K-Means Clustering with 5 cluster')\n",
        "plt.xlim(-0.25,1.25) \n",
        "plt.ylim(-0.25,1.25)\n",
        "plt.show()"
      ],
      "execution_count": 0,
      "outputs": [
        {
          "output_type": "display_data",
          "data": {
            "image/png": "[encoded data removed]",
            "text/plain": [
              "<Figure size 360x360 with 1 Axes>"
            ]
          },
          "metadata": {
            "tags": [],
            "needs_background": "light"
          }
        }
      ]
    },
    {
      "cell_type": "code",
      "metadata": {
        "id": "In2fbgC7EEsu",
        "colab_type": "code",
        "colab": {}
      },
      "source": [
        "df_5c.drop(df_5c.columns[df_5c.columns.str.contains('color',case = False)],axis = 1, inplace = True)"
      ],
      "execution_count": 0,
      "outputs": []
    },
    {
      "cell_type": "code",
      "metadata": {
        "id": "Wx42vmAREerC",
        "colab_type": "code",
        "outputId": "b4fd37aa-918c-48cf-ec37-89d6045b8deb",
        "colab": {
          "base_uri": "https://localhost:8080/",
          "height": 33
        }
      },
      "source": [
        "silhouette_avg = metrics.silhouette_score(df_5c, df_5c['cluster'])\n",
        "print ('silhouette coefficient for the above clutering = ', silhouette_avg)"
      ],
      "execution_count": 0,
      "outputs": [
        {
          "output_type": "stream",
          "text": [
            "silhouette coefficient for the above clutering =  0.8065306424304634\n"
          ],
          "name": "stdout"
        }
      ]
    },
    {
      "cell_type": "markdown",
      "metadata": {
        "id": "zTJk_eJBo7Ax",
        "colab_type": "text"
      },
      "source": [
        "##Cluster = 6"
      ]
    },
    {
      "cell_type": "code",
      "metadata": {
        "colab_type": "code",
        "id": "Q03V7gxqo-Xt",
        "colab": {}
      },
      "source": [
        "df_scaled = pd.read_csv(\"drive/My Drive/Damin/scaled_fire_archive.csv\")"
      ],
      "execution_count": 0,
      "outputs": []
    },
    {
      "cell_type": "code",
      "metadata": {
        "colab_type": "code",
        "id": "KMlokYWno-Xw",
        "colab": {}
      },
      "source": [
        "df_6c = df_scaled\n",
        "\n",
        "clustering_kmeans = KMeans(n_clusters=6)\n",
        "df_6c['cluster'] = clustering_kmeans.fit_predict(df_6c)\n",
        "\n",
        "df_6c.loc[df_6c['cluster'] == 0, 'color'] = 'r'\n",
        "df_6c.loc[df_6c['cluster'] == 1, 'color'] = 'g'\n",
        "df_6c.loc[df_6c['cluster'] == 2, 'color'] = 'b'\n",
        "df_6c.loc[df_6c['cluster'] == 3, 'color'] = 'y'\n",
        "df_6c.loc[df_6c['cluster'] == 4, 'color'] = 'c'\n",
        "df_6c.loc[df_6c['cluster'] == 5, 'color'] = 'm'"
      ],
      "execution_count": 0,
      "outputs": []
    },
    {
      "cell_type": "code",
      "metadata": {
        "colab_type": "code",
        "id": "ly4J1Qawo-X0",
        "outputId": "93e37297-344d-4b6d-b7ab-431db001c904",
        "colab": {
          "base_uri": "https://localhost:8080/",
          "height": 336
        }
      },
      "source": [
        "fig = plt.figure(figsize=(5,5))\n",
        "plt.scatter(df_6c['longitude'], df_6c['latitude'], color =df_6c['color'])\n",
        "plt.title('K-Means Clustering with 6 cluster')\n",
        "plt.xlim(-0.25,1.25) \n",
        "plt.ylim(-0.25,1.25)\n",
        "plt.show()"
      ],
      "execution_count": 0,
      "outputs": [
        {
          "output_type": "display_data",
          "data": {
            "image/png": "[encoded data removed]",
            "text/plain": [
              "<Figure size 360x360 with 1 Axes>"
            ]
          },
          "metadata": {
            "tags": [],
            "needs_background": "light"
          }
        }
      ]
    },
    {
      "cell_type": "code",
      "metadata": {
        "id": "BcKZByVIFUgN",
        "colab_type": "code",
        "colab": {}
      },
      "source": [
        "df_6c.drop(df_6c.columns[df_6c.columns.str.contains('color',case = False)],axis = 1, inplace = True)"
      ],
      "execution_count": 0,
      "outputs": []
    },
    {
      "cell_type": "code",
      "metadata": {
        "id": "5nAddXt7Fk5J",
        "colab_type": "code",
        "outputId": "92cf8cba-8c0a-498b-ddff-cf082c15ef38",
        "colab": {
          "base_uri": "https://localhost:8080/",
          "height": 33
        }
      },
      "source": [
        "silhouette_avg = metrics.silhouette_score(df_6c, df_6c['cluster'])\n",
        "print ('silhouette coefficient for the above clutering = ', silhouette_avg)"
      ],
      "execution_count": 0,
      "outputs": [
        {
          "output_type": "stream",
          "text": [
            "silhouette coefficient for the above clutering =  0.8101438649953462\n"
          ],
          "name": "stdout"
        }
      ]
    },
    {
      "cell_type": "markdown",
      "metadata": {
        "id": "CS-efvZssZUq",
        "colab_type": "text"
      },
      "source": [
        "##Comparison of each clustering's values"
      ]
    },
    {
      "cell_type": "code",
      "metadata": {
        "id": "UJYnz5Scr8pw",
        "colab_type": "code",
        "outputId": "8f5cdcc0-6dbe-499d-b079-a8c0890a8921",
        "colab": {
          "base_uri": "https://localhost:8080/",
          "height": 67
        }
      },
      "source": [
        "df_2c['cluster'].value_counts()"
      ],
      "execution_count": 0,
      "outputs": [
        {
          "output_type": "execute_result",
          "data": {
            "text/plain": [
              "1    15550\n",
              "0     9450\n",
              "Name: cluster, dtype: int64"
            ]
          },
          "metadata": {
            "tags": []
          },
          "execution_count": 65
        }
      ]
    },
    {
      "cell_type": "code",
      "metadata": {
        "id": "XbzO0Uchr_iz",
        "colab_type": "code",
        "outputId": "d6925c49-20de-4d02-df0c-80828fb7d9ab",
        "colab": {
          "base_uri": "https://localhost:8080/",
          "height": 83
        }
      },
      "source": [
        "df_3c['cluster'].value_counts()"
      ],
      "execution_count": 0,
      "outputs": [
        {
          "output_type": "execute_result",
          "data": {
            "text/plain": [
              "2    14752\n",
              "0     6637\n",
              "1     3611\n",
              "Name: cluster, dtype: int64"
            ]
          },
          "metadata": {
            "tags": []
          },
          "execution_count": 66
        }
      ]
    },
    {
      "cell_type": "code",
      "metadata": {
        "id": "8Y58OuTxsCFi",
        "colab_type": "code",
        "outputId": "47639d9e-a5bc-4c1e-ff6d-14a766e35ab0",
        "colab": {
          "base_uri": "https://localhost:8080/",
          "height": 100
        }
      },
      "source": [
        "df_4c['cluster'].value_counts()"
      ],
      "execution_count": 0,
      "outputs": [
        {
          "output_type": "execute_result",
          "data": {
            "text/plain": [
              "0    7853\n",
              "1    7686\n",
              "3    5912\n",
              "2    3549\n",
              "Name: cluster, dtype: int64"
            ]
          },
          "metadata": {
            "tags": []
          },
          "execution_count": 67
        }
      ]
    },
    {
      "cell_type": "code",
      "metadata": {
        "id": "xw0zGnRhsJ4g",
        "colab_type": "code",
        "outputId": "c605677f-49e5-447b-e917-5c30876e907b",
        "colab": {
          "base_uri": "https://localhost:8080/",
          "height": 117
        }
      },
      "source": [
        "df_5c['cluster'].value_counts()"
      ],
      "execution_count": 0,
      "outputs": [
        {
          "output_type": "execute_result",
          "data": {
            "text/plain": [
              "0    8461\n",
              "4    5587\n",
              "2    4410\n",
              "1    3557\n",
              "3    2985\n",
              "Name: cluster, dtype: int64"
            ]
          },
          "metadata": {
            "tags": []
          },
          "execution_count": 68
        }
      ]
    },
    {
      "cell_type": "code",
      "metadata": {
        "id": "mU2UYdinsLbJ",
        "colab_type": "code",
        "outputId": "ac03fd96-5b9e-4bf6-f8cc-22c66abe2edd",
        "colab": {
          "base_uri": "https://localhost:8080/",
          "height": 133
        }
      },
      "source": [
        "df_6c['cluster'].value_counts()"
      ],
      "execution_count": 0,
      "outputs": [
        {
          "output_type": "execute_result",
          "data": {
            "text/plain": [
              "1    5867\n",
              "3    4999\n",
              "4    4998\n",
              "0    3535\n",
              "2    2986\n",
              "5    2615\n",
              "Name: cluster, dtype: int64"
            ]
          },
          "metadata": {
            "tags": []
          },
          "execution_count": 69
        }
      ]
    }
  ]
}