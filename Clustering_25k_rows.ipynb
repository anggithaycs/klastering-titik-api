{
  "nbformat": 4,
  "nbformat_minor": 0,
  "metadata": {
    "colab": {
      "name": "Clustering 25k rows.ipynb",
      "provenance": [],
      "mount_file_id": "1mePI00Za66iHvbLYPQ3PIP7UMoc00_Xl",
      "authorship_tag": "ABX9TyNT/AJ+lnDCmiH4Zh/lZGW6",
      "include_colab_link": true
    },
    "kernelspec": {
      "name": "python3",
      "display_name": "Python 3"
    }
  },
  "cells": [
    {
      "cell_type": "markdown",
      "metadata": {
        "id": "view-in-github",
        "colab_type": "text"
      },
      "source": [
        "<a href=\"https://colab.research.google.com/github/anggithaycs/klastering-titik-api/blob/master/Clustering_25k_rows.ipynb\" target=\"_parent\"><img src=\"https://colab.research.google.com/assets/colab-badge.svg\" alt=\"Open In Colab\"/></a>"
      ]
    },
    {
      "cell_type": "code",
      "metadata": {
        "id": "T_rq19UDzEVe",
        "colab_type": "code",
        "colab": {}
      },
      "source": [
        "import matplotlib.pyplot as plt\n",
        "from sklearn.cluster import KMeans\n",
        "import pandas as pd\n",
        "import numpy as np\n",
        "from sklearn import metrics\n",
        "from sklearn.preprocessing import MinMaxScaler "
      ],
      "execution_count": 0,
      "outputs": []
    },
    {
      "cell_type": "markdown",
      "metadata": {
        "id": "AgAitoTXnPZV",
        "colab_type": "text"
      },
      "source": [
        "#Data Preparation\n",
        "1. Baca data yang sudah tersisa 25.000 baris saja\n",
        "2. Lakukan feature scaling"
      ]
    },
    {
      "cell_type": "code",
      "metadata": {
        "id": "ZU3tKs9IzibK",
        "colab_type": "code",
        "colab": {}
      },
      "source": [
        "df = pd.read_csv(\"drive/My Drive/Damin/25k_fire_archive.csv\")"
      ],
      "execution_count": 0,
      "outputs": []
    },
    {
      "cell_type": "code",
      "metadata": {
        "id": "y8YwRX8GR1bR",
        "colab_type": "code",
        "colab": {}
      },
      "source": [
        "mms = MinMaxScaler()\n",
        "df_scale= mms.fit_transform(df)\n",
        "df_scale = pd.DataFrame(df_scale,columns=df.columns)"
      ],
      "execution_count": 0,
      "outputs": []
    },
    {
      "cell_type": "code",
      "metadata": {
        "id": "KMmsUQY_mk74",
        "colab_type": "code",
        "colab": {}
      },
      "source": [
        "df_scale.to_csv(\"drive/My Drive/Damin/25k_scaled_fire_archive.csv\", index=False)\n",
        "#File hasil scaling"
      ],
      "execution_count": 0,
      "outputs": []
    },
    {
      "cell_type": "code",
      "metadata": {
        "id": "5aQzDCCtoDjr",
        "colab_type": "code",
        "colab": {}
      },
      "source": [
        "df = df_scale"
      ],
      "execution_count": 0,
      "outputs": []
    },
    {
      "cell_type": "markdown",
      "metadata": {
        "id": "gGrxLoF_WzZp",
        "colab_type": "text"
      },
      "source": [
        "#K-Means Clustering\n",
        "> Perform the K-Means Clustering using 6 attributes for k = 2, 3, 4, 5, 6"
      ]
    },
    {
      "cell_type": "markdown",
      "metadata": {
        "id": "pqXYlQOTXH4L",
        "colab_type": "text"
      },
      "source": [
        "## Cluster = 2\n"
      ]
    },
    {
      "cell_type": "code",
      "metadata": {
        "id": "mqVGhg-zegNJ",
        "colab_type": "code",
        "colab": {}
      },
      "source": [
        "df_2c = pd.DataFrame(df_scale)"
      ],
      "execution_count": 0,
      "outputs": []
    },
    {
      "cell_type": "code",
      "metadata": {
        "id": "L4iTLxNXj_8e",
        "colab_type": "code",
        "colab": {}
      },
      "source": [
        "clustering_kmeans = KMeans(n_clusters=2)\n",
        "df_2c['cluster'] = clustering_kmeans.fit_predict(df_2c)"
      ],
      "execution_count": 0,
      "outputs": []
    },
    {
      "cell_type": "code",
      "metadata": {
        "id": "i-GXqHGh6ml2",
        "colab_type": "code",
        "colab": {}
      },
      "source": [
        "cluster_df_2c = df_2c['cluster']"
      ],
      "execution_count": 0,
      "outputs": []
    },
    {
      "cell_type": "code",
      "metadata": {
        "id": "QesLIa3qeyd7",
        "colab_type": "code",
        "colab": {}
      },
      "source": [
        "df_2c.loc[df_2c['cluster'] == 0, 'color'] = 'r'\n",
        "df_2c.loc[df_2c['cluster'] == 1, 'color'] = 'g'"
      ],
      "execution_count": 0,
      "outputs": []
    },
    {
      "cell_type": "code",
      "metadata": {
        "id": "StXvyByAfYlr",
        "colab_type": "code",
        "outputId": "12f0b5cf-e019-4cc0-871f-3183c9a20ec3",
        "colab": {
          "base_uri": "https://localhost:8080/",
          "height": 336
        }
      },
      "source": [
        "fig = plt.figure(figsize=(5,5))\n",
        "plt.scatter(df_2c['longitude'], df_2c['latitude'], color =df_2c['color'])\n",
        "plt.title('K-Means Clustering with 2 cluster')\n",
        "plt.xlim(-0.25,1.25) \n",
        "plt.ylim(-0.25,1.25)\n",
        "plt.show()"
      ],
      "execution_count": 0,
      "outputs": [
        {
          "output_type": "display_data",
          "data": {
            "image/png": "[encoded data removed]",
            "text/plain": [
              "<Figure size 360x360 with 1 Axes>"
            ]
          },
          "metadata": {
            "tags": [],
            "needs_background": "light"
          }
        }
      ]
    },
    {
      "cell_type": "code",
      "metadata": {
        "id": "kkn6MVUz9pZC",
        "colab_type": "code",
        "colab": {}
      },
      "source": [
        "df_2c.drop(df_2c.columns[df_2c.columns.str.contains('color',case = False)],axis = 1, inplace = True)"
      ],
      "execution_count": 0,
      "outputs": []
    },
    {
      "cell_type": "code",
      "metadata": {
        "id": "UuZ37V4-6FFB",
        "colab_type": "code",
        "outputId": "2dc804c1-dc57-4d6d-aa11-8f2b4144bbf0",
        "colab": {
          "base_uri": "https://localhost:8080/"
        }
      },
      "source": [
        "silhouette_avg = metrics.silhouette_score(df_2c, cluster_df_2c)\n",
        "print ('silhouette coefficient for the clustering above = ', silhouette_avg)"
      ],
      "execution_count": 0,
      "outputs": [
        {
          "output_type": "stream",
          "text": [
            "silhouette coefficient for the clustering above =  0.7286674236690377\n"
          ],
          "name": "stdout"
        }
      ]
    },
    {
      "cell_type": "markdown",
      "metadata": {
        "id": "pCg1_pwcapYt",
        "colab_type": "text"
      },
      "source": [
        "##Cluster = 3"
      ]
    },
    {
      "cell_type": "code",
      "metadata": {
        "id": "kwnjN5xDnxaa",
        "colab_type": "code",
        "colab": {}
      },
      "source": [
        "df_scaled = pd.read_csv(\"drive/My Drive/Damin/25k_scaled_fire_archive.csv\")"
      ],
      "execution_count": 0,
      "outputs": []
    },
    {
      "cell_type": "code",
      "metadata": {
        "id": "fn5_Sh83iH8T",
        "colab_type": "code",
        "colab": {}
      },
      "source": [
        "df_3c = df_scaled\n",
        "\n",
        "clustering_kmeans = KMeans(n_clusters=3)\n",
        "df_3c['cluster'] = clustering_kmeans.fit_predict(df_3c)\n",
        "\n",
        "df_3c.loc[df_3c['cluster'] == 0, 'color'] = 'r'\n",
        "df_3c.loc[df_3c['cluster'] == 1, 'color'] = 'g'\n",
        "df_3c.loc[df_3c['cluster'] == 2, 'color'] = 'b'"
      ],
      "execution_count": 0,
      "outputs": []
    },
    {
      "cell_type": "code",
      "metadata": {
        "id": "Ej95Yc_8ln81",
        "colab_type": "code",
        "outputId": "5ee5d9b1-561c-491f-c62d-e0561d361dfe",
        "colab": {
          "base_uri": "https://localhost:8080/"
        }
      },
      "source": [
        "fig = plt.figure(figsize=(5,5))\n",
        "plt.scatter(df_3c['longitude'], df_3c['latitude'], color =df_3c['color'])\n",
        "plt.title('K-Means Clustering with 3 cluster')\n",
        "plt.xlim(-0.25,1.25) \n",
        "plt.ylim(-0.25,1.25)\n",
        "plt.show()"
      ],
      "execution_count": 0,
      "outputs": [
        {
          "output_type": "display_data",
          "data": {
            "image/png": "[encoded data removed]",
            "text/plain": [
              "<Figure size 360x360 with 1 Axes>"
            ]
          },
          "metadata": {
            "tags": [],
            "needs_background": "light"
          }
        }
      ]
    },
    {
      "cell_type": "code",
      "metadata": {
        "id": "d5qah12NAVle",
        "colab_type": "code",
        "colab": {}
      },
      "source": [
        "df_3c.drop(df_3c.columns[df_3c.columns.str.contains('color',case = False)],axis = 1, inplace = True)"
      ],
      "execution_count": 0,
      "outputs": []
    },
    {
      "cell_type": "code",
      "metadata": {
        "id": "7EKvD2zxAid7",
        "colab_type": "code",
        "outputId": "a6b78936-5901-44ac-a329-361aa930a858",
        "colab": {
          "base_uri": "https://localhost:8080/"
        }
      },
      "source": [
        "silhouette_avg = metrics.silhouette_score(df_3c, df_3c['cluster'])\n",
        "print ('silhouette coefficient for the clustering above = ', silhouette_avg)"
      ],
      "execution_count": 0,
      "outputs": [
        {
          "output_type": "stream",
          "text": [
            "silhouette coefficient for the clustering above =  0.7760020645861937\n"
          ],
          "name": "stdout"
        }
      ]
    },
    {
      "cell_type": "markdown",
      "metadata": {
        "id": "m8Uz9jlRokbs",
        "colab_type": "text"
      },
      "source": [
        "##Cluster = 4"
      ]
    },
    {
      "cell_type": "code",
      "metadata": {
        "colab_type": "code",
        "id": "EIgsbCG3oz5i",
        "colab": {}
      },
      "source": [
        "df_scaled = pd.read_csv(\"drive/My Drive/Damin/25k_scaled_fire_archive.csv\")"
      ],
      "execution_count": 0,
      "outputs": []
    },
    {
      "cell_type": "code",
      "metadata": {
        "colab_type": "code",
        "id": "jAMupsrfoz5n",
        "colab": {}
      },
      "source": [
        "df_4c = df_scaled\n",
        "\n",
        "clustering_kmeans = KMeans(n_clusters=4)\n",
        "df_4c['cluster'] = clustering_kmeans.fit_predict(df_4c)\n",
        "\n",
        "df_4c.loc[df_4c['cluster'] == 0, 'color'] = 'r'\n",
        "df_4c.loc[df_4c['cluster'] == 1, 'color'] = 'g'\n",
        "df_4c.loc[df_4c['cluster'] == 2, 'color'] = 'b'\n",
        "df_4c.loc[df_4c['cluster'] == 3, 'color'] = 'y'"
      ],
      "execution_count": 0,
      "outputs": []
    },
    {
      "cell_type": "code",
      "metadata": {
        "colab_type": "code",
        "id": "BLjHaLcNoz5t",
        "outputId": "e4778186-a633-475b-dd35-021dcea9f8b7",
        "colab": {
          "base_uri": "https://localhost:8080/"
        }
      },
      "source": [
        "fig = plt.figure(figsize=(5,5))\n",
        "plt.scatter(df_4c['longitude'], df_4c['latitude'], color =df_4c['color'])\n",
        "plt.title('K-Means Clustering with 4 cluster')\n",
        "plt.xlim(-0.25,1.25) \n",
        "plt.ylim(-0.25,1.25)\n",
        "plt.show()"
      ],
      "execution_count": 0,
      "outputs": [
        {
          "output_type": "display_data",
          "data": {
            "image/png": "[encoded data removed]",
            "text/plain": [
              "<Figure size 360x360 with 1 Axes>"
            ]
          },
          "metadata": {
            "tags": [],
            "needs_background": "light"
          }
        }
      ]
    },
    {
      "cell_type": "code",
      "metadata": {
        "id": "feuATiGZBR5V",
        "colab_type": "code",
        "colab": {}
      },
      "source": [
        "df_4c.drop(df_4c.columns[df_4c.columns.str.contains('color',case = False)],axis = 1, inplace = True)"
      ],
      "execution_count": 0,
      "outputs": []
    },
    {
      "cell_type": "code",
      "metadata": {
        "id": "RVa5qGxkCDs-",
        "colab_type": "code",
        "outputId": "f2961873-03db-48e6-9b84-141a2e656bb8",
        "colab": {
          "base_uri": "https://localhost:8080/"
        }
      },
      "source": [
        "silhouette_avg = metrics.silhouette_score(df_4c, df_4c['cluster'])\n",
        "print ('silhouette coefficient for the clustering above = ', silhouette_avg)"
      ],
      "execution_count": 0,
      "outputs": [
        {
          "output_type": "stream",
          "text": [
            "silhouette coefficient for the clustering above =  0.7943527797335679\n"
          ],
          "name": "stdout"
        }
      ]
    },
    {
      "cell_type": "markdown",
      "metadata": {
        "id": "YmbJDFTSo2Zg",
        "colab_type": "text"
      },
      "source": [
        "##Cluster = 5"
      ]
    },
    {
      "cell_type": "code",
      "metadata": {
        "colab_type": "code",
        "id": "9_CAM93zo5FD",
        "colab": {}
      },
      "source": [
        "df_scaled = pd.read_csv(\"drive/My Drive/Damin/25k_scaled_fire_archive.csv\")"
      ],
      "execution_count": 0,
      "outputs": []
    },
    {
      "cell_type": "code",
      "metadata": {
        "colab_type": "code",
        "id": "DuLg_5d2o5FF",
        "colab": {}
      },
      "source": [
        "df_5c = df_scaled\n",
        "\n",
        "clustering_kmeans = KMeans(n_clusters=5)\n",
        "df_5c['cluster'] = clustering_kmeans.fit_predict(df_5c)\n",
        "\n",
        "df_5c.loc[df_5c['cluster'] == 0, 'color'] = 'r'\n",
        "df_5c.loc[df_5c['cluster'] == 1, 'color'] = 'g'\n",
        "df_5c.loc[df_5c['cluster'] == 2, 'color'] = 'b'\n",
        "df_5c.loc[df_5c['cluster'] == 3, 'color'] = 'y'\n",
        "df_5c.loc[df_5c['cluster'] == 4, 'color'] = 'c'"
      ],
      "execution_count": 0,
      "outputs": []
    },
    {
      "cell_type": "code",
      "metadata": {
        "colab_type": "code",
        "id": "VzNMTigNo5FL",
        "outputId": "a242eb2f-1d09-44e1-e067-7fd776826345",
        "colab": {
          "base_uri": "https://localhost:8080/"
        }
      },
      "source": [
        "fig = plt.figure(figsize=(5,5))\n",
        "plt.scatter(df_5c['longitude'], df_5c['latitude'], color =df_5c['color'])\n",
        "plt.title('K-Means Clustering with 5 cluster')\n",
        "plt.xlim(-0.25,1.25) \n",
        "plt.ylim(-0.25,1.25)\n",
        "plt.show()"
      ],
      "execution_count": 0,
      "outputs": [
        {
          "output_type": "display_data",
          "data": {
            "image/png": "[encoded data removed]",
            "text/plain": [
              "<Figure size 360x360 with 1 Axes>"
            ]
          },
          "metadata": {
            "tags": [],
            "needs_background": "light"
          }
        }
      ]
    },
    {
      "cell_type": "code",
      "metadata": {
        "id": "In2fbgC7EEsu",
        "colab_type": "code",
        "colab": {}
      },
      "source": [
        "df_5c.drop(df_5c.columns[df_5c.columns.str.contains('color',case = False)],axis = 1, inplace = True)"
      ],
      "execution_count": 0,
      "outputs": []
    },
    {
      "cell_type": "code",
      "metadata": {
        "id": "Wx42vmAREerC",
        "colab_type": "code",
        "outputId": "212cee81-064c-4502-a88a-50c8098d4342",
        "colab": {
          "base_uri": "https://localhost:8080/"
        }
      },
      "source": [
        "silhouette_avg = metrics.silhouette_score(df_5c, df_5c['cluster'])\n",
        "print ('silhouette coefficient for the clustering above = ', silhouette_avg)"
      ],
      "execution_count": 0,
      "outputs": [
        {
          "output_type": "stream",
          "text": [
            "silhouette coefficient for the clustering above =  0.7940331300379548\n"
          ],
          "name": "stdout"
        }
      ]
    },
    {
      "cell_type": "markdown",
      "metadata": {
        "id": "zTJk_eJBo7Ax",
        "colab_type": "text"
      },
      "source": [
        "##Cluster = 6"
      ]
    },
    {
      "cell_type": "code",
      "metadata": {
        "colab_type": "code",
        "id": "Q03V7gxqo-Xt",
        "colab": {}
      },
      "source": [
        "df_scaled = pd.read_csv(\"drive/My Drive/Damin/25k_scaled_fire_archive.csv\")"
      ],
      "execution_count": 0,
      "outputs": []
    },
    {
      "cell_type": "code",
      "metadata": {
        "colab_type": "code",
        "id": "KMlokYWno-Xw",
        "colab": {}
      },
      "source": [
        "df_6c = df_scaled\n",
        "\n",
        "clustering_kmeans = KMeans(n_clusters=6)\n",
        "df_6c['cluster'] = clustering_kmeans.fit_predict(df_6c)\n",
        "\n",
        "df_6c.loc[df_6c['cluster'] == 0, 'color'] = 'r'\n",
        "df_6c.loc[df_6c['cluster'] == 1, 'color'] = 'g'\n",
        "df_6c.loc[df_6c['cluster'] == 2, 'color'] = 'b'\n",
        "df_6c.loc[df_6c['cluster'] == 3, 'color'] = 'y'\n",
        "df_6c.loc[df_6c['cluster'] == 4, 'color'] = 'c'\n",
        "df_6c.loc[df_6c['cluster'] == 5, 'color'] = 'm'"
      ],
      "execution_count": 0,
      "outputs": []
    },
    {
      "cell_type": "code",
      "metadata": {
        "colab_type": "code",
        "id": "ly4J1Qawo-X0",
        "outputId": "76c95605-a845-44e4-f511-2e90f277096c",
        "colab": {
          "base_uri": "https://localhost:8080/"
        }
      },
      "source": [
        "fig = plt.figure(figsize=(5,5))\n",
        "plt.scatter(df_6c['longitude'], df_6c['latitude'], color =df_6c['color'])\n",
        "plt.title('K-Means Clustering with 6 cluster')\n",
        "plt.xlim(-0.25,1.25) \n",
        "plt.ylim(-0.25,1.25)\n",
        "plt.show()"
      ],
      "execution_count": 0,
      "outputs": [
        {
          "output_type": "display_data",
          "data": {
            "image/png": "[encoded data removed]",
            "text/plain": [
              "<Figure size 360x360 with 1 Axes>"
            ]
          },
          "metadata": {
            "tags": [],
            "needs_background": "light"
          }
        }
      ]
    },
    {
      "cell_type": "code",
      "metadata": {
        "id": "BcKZByVIFUgN",
        "colab_type": "code",
        "colab": {}
      },
      "source": [
        "df_6c.drop(df_6c.columns[df_6c.columns.str.contains('color',case = False)],axis = 1, inplace = True)"
      ],
      "execution_count": 0,
      "outputs": []
    },
    {
      "cell_type": "code",
      "metadata": {
        "id": "5nAddXt7Fk5J",
        "colab_type": "code",
        "outputId": "fd4f944b-7ecc-4e79-aeb0-d5e9287a290b",
        "colab": {
          "base_uri": "https://localhost:8080/"
        }
      },
      "source": [
        "silhouette_avg = metrics.silhouette_score(df_6c, df_6c['cluster'])\n",
        "print ('silhouette coefficient for the above clutering = ', silhouette_avg)"
      ],
      "execution_count": 0,
      "outputs": [
        {
          "output_type": "stream",
          "text": [
            "silhouette coefficient for the above clutering =  0.8128309746081693\n"
          ],
          "name": "stdout"
        }
      ]
    },
    {
      "cell_type": "markdown",
      "metadata": {
        "id": "CS-efvZssZUq",
        "colab_type": "text"
      },
      "source": [
        "##Comparison of each K-Means clustering's values"
      ]
    },
    {
      "cell_type": "code",
      "metadata": {
        "id": "UJYnz5Scr8pw",
        "colab_type": "code",
        "outputId": "ecdb41f1-31cb-4c93-8767-0b37bdbedb92",
        "colab": {
          "base_uri": "https://localhost:8080/"
        }
      },
      "source": [
        "df_2c['cluster'].value_counts()"
      ],
      "execution_count": 0,
      "outputs": [
        {
          "output_type": "execute_result",
          "data": {
            "text/plain": [
              "0    15547\n",
              "1     9453\n",
              "Name: cluster, dtype: int64"
            ]
          },
          "metadata": {
            "tags": []
          },
          "execution_count": 39
        }
      ]
    },
    {
      "cell_type": "code",
      "metadata": {
        "id": "XbzO0Uchr_iz",
        "colab_type": "code",
        "outputId": "a823ad1e-a8a9-4151-a128-5ceb855219db",
        "colab": {
          "base_uri": "https://localhost:8080/"
        }
      },
      "source": [
        "df_3c['cluster'].value_counts()"
      ],
      "execution_count": 0,
      "outputs": [
        {
          "output_type": "execute_result",
          "data": {
            "text/plain": [
              "0    14752\n",
              "2     6637\n",
              "1     3611\n",
              "Name: cluster, dtype: int64"
            ]
          },
          "metadata": {
            "tags": []
          },
          "execution_count": 40
        }
      ]
    },
    {
      "cell_type": "code",
      "metadata": {
        "id": "8Y58OuTxsCFi",
        "colab_type": "code",
        "outputId": "1bd9d3d2-c1bc-47b7-baef-2c8e893f654c",
        "colab": {
          "base_uri": "https://localhost:8080/"
        }
      },
      "source": [
        "df_4c['cluster'].value_counts()"
      ],
      "execution_count": 0,
      "outputs": [
        {
          "output_type": "execute_result",
          "data": {
            "text/plain": [
              "0    7967\n",
              "2    7554\n",
              "3    5929\n",
              "1    3550\n",
              "Name: cluster, dtype: int64"
            ]
          },
          "metadata": {
            "tags": []
          },
          "execution_count": 41
        }
      ]
    },
    {
      "cell_type": "code",
      "metadata": {
        "id": "xw0zGnRhsJ4g",
        "colab_type": "code",
        "outputId": "9c91ae06-96e4-481e-bc3a-a5da38bc50c8",
        "colab": {
          "base_uri": "https://localhost:8080/",
          "height": 117
        }
      },
      "source": [
        "df_5c['cluster'].value_counts()"
      ],
      "execution_count": 0,
      "outputs": [
        {
          "output_type": "execute_result",
          "data": {
            "text/plain": [
              "4    8388\n",
              "3    5641\n",
              "1    4453\n",
              "2    3558\n",
              "0    2960\n",
              "Name: cluster, dtype: int64"
            ]
          },
          "metadata": {
            "tags": []
          },
          "execution_count": 42
        }
      ]
    },
    {
      "cell_type": "code",
      "metadata": {
        "id": "mU2UYdinsLbJ",
        "colab_type": "code",
        "outputId": "bf08e867-90a9-4554-842a-a92bea76e6c0",
        "colab": {
          "base_uri": "https://localhost:8080/",
          "height": 133
        }
      },
      "source": [
        "df_6c['cluster'].value_counts()"
      ],
      "execution_count": 0,
      "outputs": [
        {
          "output_type": "execute_result",
          "data": {
            "text/plain": [
              "0    5520\n",
              "3    5162\n",
              "2    5033\n",
              "1    3519\n",
              "5    3157\n",
              "4    2609\n",
              "Name: cluster, dtype: int64"
            ]
          },
          "metadata": {
            "tags": []
          },
          "execution_count": 43
        }
      ]
    },
    {
      "cell_type": "markdown",
      "metadata": {
        "id": "V7x81X3Rku5B",
        "colab_type": "text"
      },
      "source": [
        "#K-Medoids Clustering"
      ]
    },
    {
      "cell_type": "code",
      "metadata": {
        "id": "HdfcyDbk2oJj",
        "colab_type": "code",
        "outputId": "8a783ee2-2828-4771-aece-eefbe0282a3a",
        "colab": {
          "base_uri": "https://localhost:8080/",
          "height": 320
        }
      },
      "source": [
        "!pip install scikit-learn-extra"
      ],
      "execution_count": 0,
      "outputs": [
        {
          "output_type": "stream",
          "text": [
            "Collecting scikit-learn-extra\n",
            "\u001b[?25l  Downloading https://files.pythonhosted.org/packages/d1/dd/891d2ee7bd18af8f2e1df5d63a52ee96edd0eacc21bb9627072b1c5f6a6c/scikit-learn-extra-0.1.0b2.tar.gz (615kB)\n",
            "\u001b[K     |████████████████████████████████| 624kB 3.4MB/s \n",
            "\u001b[?25h  Installing build dependencies ... \u001b[?25l\u001b[?25hdone\n",
            "  Getting requirements to build wheel ... \u001b[?25l\u001b[?25hdone\n",
            "    Preparing wheel metadata ... \u001b[?25l\u001b[?25hdone\n",
            "Requirement already satisfied: scikit-learn>=0.21.0 in /usr/local/lib/python3.6/dist-packages (from scikit-learn-extra) (0.22.2.post1)\n",
            "Requirement already satisfied: scipy>=0.19.1 in /usr/local/lib/python3.6/dist-packages (from scikit-learn-extra) (1.4.1)\n",
            "Requirement already satisfied: numpy>=1.13.3 in /usr/local/lib/python3.6/dist-packages (from scikit-learn-extra) (1.18.3)\n",
            "Requirement already satisfied: joblib>=0.11 in /usr/local/lib/python3.6/dist-packages (from scikit-learn>=0.21.0->scikit-learn-extra) (0.14.1)\n",
            "Building wheels for collected packages: scikit-learn-extra\n",
            "  Building wheel for scikit-learn-extra (PEP 517) ... \u001b[?25l\u001b[?25hdone\n",
            "  Created wheel for scikit-learn-extra: filename=scikit_learn_extra-0.1.0b2-cp36-cp36m-linux_x86_64.whl size=347124 sha256=5da9db9e283a4eadf049fd24a623d065ddcd8e87680f4280bfa10ef7cfca875a\n",
            "  Stored in directory: /root/.cache/pip/wheels/04/01/0f/943bffb48bac048fa216b4325f1a6c939491ccb0ff500e08f4\n",
            "Successfully built scikit-learn-extra\n",
            "Installing collected packages: scikit-learn-extra\n",
            "Successfully installed scikit-learn-extra-0.1.0b2\n"
          ],
          "name": "stdout"
        }
      ]
    },
    {
      "cell_type": "code",
      "metadata": {
        "id": "uVePPd412rT3",
        "colab_type": "code",
        "colab": {}
      },
      "source": [
        "from sklearn_extra.cluster import KMedoids"
      ],
      "execution_count": 0,
      "outputs": []
    },
    {
      "cell_type": "markdown",
      "metadata": {
        "colab_type": "text",
        "id": "if4p3HCN2SUk"
      },
      "source": [
        "## Cluster = 2\n"
      ]
    },
    {
      "cell_type": "code",
      "metadata": {
        "colab_type": "code",
        "id": "j_A-YPGT2SUk",
        "colab": {}
      },
      "source": [
        "df_2m = pd.read_csv(\"drive/My Drive/Damin/25k_scaled_fire_archive.csv\")"
      ],
      "execution_count": 0,
      "outputs": []
    },
    {
      "cell_type": "code",
      "metadata": {
        "colab_type": "code",
        "id": "MWezogEn2SUo",
        "colab": {}
      },
      "source": [
        "clustering_kmedoids = KMedoids(n_clusters=2)\n",
        "df_2m['cluster'] = clustering_kmedoids.fit_predict(df_2m)"
      ],
      "execution_count": 0,
      "outputs": []
    },
    {
      "cell_type": "code",
      "metadata": {
        "colab_type": "code",
        "id": "i3yBta3h2SUq",
        "colab": {}
      },
      "source": [
        "df_2m.loc[df_2m['cluster'] == 0, 'color'] = 'r'\n",
        "df_2m.loc[df_2m['cluster'] == 1, 'color'] = 'g'"
      ],
      "execution_count": 0,
      "outputs": []
    },
    {
      "cell_type": "code",
      "metadata": {
        "colab_type": "code",
        "outputId": "52199932-ddef-482e-c5a6-b54ec5ab8f15",
        "id": "hEqJdkCz2SUw",
        "colab": {
          "base_uri": "https://localhost:8080/",
          "height": 336
        }
      },
      "source": [
        "fig = plt.figure(figsize=(5,5))\n",
        "plt.scatter(df_2m['longitude'], df_2m['latitude'], color =df_2m['color'])\n",
        "plt.title('K-Medoids Clustering with 2 cluster')\n",
        "plt.xlim(-0.25,1.25) \n",
        "plt.ylim(-0.25,1.25)\n",
        "plt.show()"
      ],
      "execution_count": 0,
      "outputs": [
        {
          "output_type": "display_data",
          "data": {
            "image/png": "[encoded data removed]",
            "text/plain": [
              "<Figure size 360x360 with 1 Axes>"
            ]
          },
          "metadata": {
            "tags": [],
            "needs_background": "light"
          }
        }
      ]
    },
    {
      "cell_type": "code",
      "metadata": {
        "id": "P1JFZXCL3MZZ",
        "colab_type": "code",
        "colab": {}
      },
      "source": [
        "df_2m.drop(df_2m.columns[df_2m.columns.str.contains('color',case = False)],axis = 1, inplace = True)"
      ],
      "execution_count": 0,
      "outputs": []
    },
    {
      "cell_type": "code",
      "metadata": {
        "id": "-kURYYYJM29F",
        "colab_type": "code",
        "outputId": "a5abb276-489f-4d83-a008-e8e33e74b0eb",
        "colab": {
          "base_uri": "https://localhost:8080/",
          "height": 33
        }
      },
      "source": [
        "silhouette_avg = metrics.silhouette_score(df_2m, df_2m['cluster'])\n",
        "print ('silhouette coefficient for the clustering above = ', silhouette_avg)"
      ],
      "execution_count": 0,
      "outputs": [
        {
          "output_type": "stream",
          "text": [
            "silhouette coefficient for the clustering above =  0.7287381980948174\n"
          ],
          "name": "stdout"
        }
      ]
    },
    {
      "cell_type": "markdown",
      "metadata": {
        "colab_type": "text",
        "id": "kUvqDI-02SU6"
      },
      "source": [
        "##Cluster = 3"
      ]
    },
    {
      "cell_type": "code",
      "metadata": {
        "colab_type": "code",
        "id": "9vQqvIR52SU7",
        "colab": {}
      },
      "source": [
        "df_scaled = pd.read_csv(\"drive/My Drive/Damin/25k_scaled_fire_archive.csv\")"
      ],
      "execution_count": 0,
      "outputs": []
    },
    {
      "cell_type": "code",
      "metadata": {
        "colab_type": "code",
        "id": "9_2AALOf2SU9",
        "colab": {}
      },
      "source": [
        "df_3m = df_scaled\n",
        "\n",
        "clustering_kmedoids = KMedoids(n_clusters=3)\n",
        "df_3m['cluster'] = clustering_kmedoids.fit_predict(df_3m)\n",
        "\n",
        "df_3m.loc[df_3m['cluster'] == 0, 'color'] = 'r'\n",
        "df_3m.loc[df_3m['cluster'] == 1, 'color'] = 'g'\n",
        "df_3m.loc[df_3m['cluster'] == 2, 'color'] = 'b'"
      ],
      "execution_count": 0,
      "outputs": []
    },
    {
      "cell_type": "code",
      "metadata": {
        "colab_type": "code",
        "outputId": "5e4d2cb8-4099-4687-a70b-1a9a6482f076",
        "id": "eXHdTu4N2SVC",
        "colab": {
          "base_uri": "https://localhost:8080/",
          "height": 336
        }
      },
      "source": [
        "fig = plt.figure(figsize=(5,5))\n",
        "plt.scatter(df_3m['longitude'], df_3m['latitude'], color =df_3m['color'])\n",
        "plt.title('K-Medoids Clustering with 3 cluster')\n",
        "plt.xlim(-0.25,1.25) \n",
        "plt.ylim(-0.25,1.25)\n",
        "plt.show()"
      ],
      "execution_count": 0,
      "outputs": [
        {
          "output_type": "display_data",
          "data": {
            "image/png": "[encoded data removed]",
            "text/plain": [
              "<Figure size 360x360 with 1 Axes>"
            ]
          },
          "metadata": {
            "tags": [],
            "needs_background": "light"
          }
        }
      ]
    },
    {
      "cell_type": "code",
      "metadata": {
        "id": "B2Trw3O6NCPl",
        "colab_type": "code",
        "colab": {}
      },
      "source": [
        "df_3m.drop(df_3m.columns[df_3m.columns.str.contains('color',case = False)],axis = 1, inplace = True)"
      ],
      "execution_count": 0,
      "outputs": []
    },
    {
      "cell_type": "code",
      "metadata": {
        "id": "FmWa5NuRNWVg",
        "colab_type": "code",
        "outputId": "c89508d6-8462-4b85-8f1d-86c645a85228",
        "colab": {
          "base_uri": "https://localhost:8080/",
          "height": 33
        }
      },
      "source": [
        "silhouette_avg = metrics.silhouette_score(df_3m, df_3m['cluster'])\n",
        "print ('silhouette coefficient for the clustering above = ', silhouette_avg)"
      ],
      "execution_count": 0,
      "outputs": [
        {
          "output_type": "stream",
          "text": [
            "silhouette coefficient for the clustering above =  0.7422218774938604\n"
          ],
          "name": "stdout"
        }
      ]
    },
    {
      "cell_type": "markdown",
      "metadata": {
        "colab_type": "text",
        "id": "ytEiLorS2SVL"
      },
      "source": [
        "##Cluster = 4"
      ]
    },
    {
      "cell_type": "code",
      "metadata": {
        "colab_type": "code",
        "id": "dGJ41NUp2SVL",
        "colab": {}
      },
      "source": [
        "df_scaled = pd.read_csv(\"drive/My Drive/Damin/25k_scaled_fire_archive.csv\")"
      ],
      "execution_count": 0,
      "outputs": []
    },
    {
      "cell_type": "code",
      "metadata": {
        "colab_type": "code",
        "id": "oJ8-smFb2SVN",
        "colab": {}
      },
      "source": [
        "df_4m = df_scaled\n",
        "\n",
        "clustering_kmedoids = KMedoids(n_clusters=4)\n",
        "df_4m['cluster'] = clustering_kmedoids.fit_predict(df_4m)\n",
        "\n",
        "df_4m.loc[df_4m['cluster'] == 0, 'color'] = 'r'\n",
        "df_4m.loc[df_4m['cluster'] == 1, 'color'] = 'g'\n",
        "df_4m.loc[df_4m['cluster'] == 2, 'color'] = 'b'\n",
        "df_4m.loc[df_4m['cluster'] == 3, 'color'] = 'y'"
      ],
      "execution_count": 0,
      "outputs": []
    },
    {
      "cell_type": "code",
      "metadata": {
        "colab_type": "code",
        "outputId": "6f4c9bb5-cf42-442b-cefb-f2eddb33a8ef",
        "id": "mBViBVf12SVS",
        "colab": {
          "base_uri": "https://localhost:8080/",
          "height": 336
        }
      },
      "source": [
        "fig = plt.figure(figsize=(5,5))\n",
        "plt.scatter(df_4m['longitude'], df_4m['latitude'], color =df_4m['color'])\n",
        "plt.title('K-Medoids Clustering with 4 cluster')\n",
        "plt.xlim(-0.25,1.25) \n",
        "plt.ylim(-0.25,1.25)\n",
        "plt.show()"
      ],
      "execution_count": 0,
      "outputs": [
        {
          "output_type": "display_data",
          "data": {
            "image/png": "[encoded data removed]",
            "text/plain": [
              "<Figure size 360x360 with 1 Axes>"
            ]
          },
          "metadata": {
            "tags": [],
            "needs_background": "light"
          }
        }
      ]
    },
    {
      "cell_type": "code",
      "metadata": {
        "id": "WCrPBsJmNb-9",
        "colab_type": "code",
        "colab": {}
      },
      "source": [
        "df_4m.drop(df_4m.columns[df_4m.columns.str.contains('color',case = False)],axis = 1, inplace = True)"
      ],
      "execution_count": 0,
      "outputs": []
    },
    {
      "cell_type": "code",
      "metadata": {
        "id": "dWfU9pC8Nj8U",
        "colab_type": "code",
        "outputId": "ac429da7-3ed5-4769-c69b-22022da73bce",
        "colab": {
          "base_uri": "https://localhost:8080/",
          "height": 33
        }
      },
      "source": [
        "silhouette_avg = metrics.silhouette_score(df_4m, df_4m['cluster'])\n",
        "print ('silhouette coefficient for the clustering above = ', silhouette_avg)"
      ],
      "execution_count": 0,
      "outputs": [
        {
          "output_type": "stream",
          "text": [
            "silhouette coefficient for the clustering above =  0.7630450979678759\n"
          ],
          "name": "stdout"
        }
      ]
    },
    {
      "cell_type": "markdown",
      "metadata": {
        "colab_type": "text",
        "id": "31AxIhOa2SVd"
      },
      "source": [
        "##Cluster = 5"
      ]
    },
    {
      "cell_type": "code",
      "metadata": {
        "colab_type": "code",
        "id": "gQjlgubA2SVe",
        "colab": {}
      },
      "source": [
        "df_scaled = pd.read_csv(\"drive/My Drive/Damin/25k_scaled_fire_archive.csv\")"
      ],
      "execution_count": 0,
      "outputs": []
    },
    {
      "cell_type": "code",
      "metadata": {
        "colab_type": "code",
        "id": "lf8Yyn__2SVg",
        "colab": {}
      },
      "source": [
        "df_5m = df_scaled\n",
        "\n",
        "clustering_kmedoids = KMedoids(n_clusters=5)\n",
        "df_5m['cluster'] = clustering_kmedoids.fit_predict(df_5m)\n",
        "\n",
        "df_5m.loc[df_5m['cluster'] == 0, 'color'] = 'r'\n",
        "df_5m.loc[df_5m['cluster'] == 1, 'color'] = 'g'\n",
        "df_5m.loc[df_5m['cluster'] == 2, 'color'] = 'b'\n",
        "df_5m.loc[df_5m['cluster'] == 3, 'color'] = 'y'\n",
        "df_5m.loc[df_5m['cluster'] == 4, 'color'] = 'c'"
      ],
      "execution_count": 0,
      "outputs": []
    },
    {
      "cell_type": "code",
      "metadata": {
        "colab_type": "code",
        "outputId": "033304f6-dabd-4ce2-ecf6-24f9fbfaf7ab",
        "id": "cY3llJ5L2SVo",
        "colab": {
          "base_uri": "https://localhost:8080/",
          "height": 336
        }
      },
      "source": [
        "fig = plt.figure(figsize=(5,5))\n",
        "plt.scatter(df_5m['longitude'], df_5m['latitude'], color =df_5m['color'])\n",
        "plt.title('K-Medoids Clustering with 5 cluster')\n",
        "plt.xlim(-0.25,1.25) \n",
        "plt.ylim(-0.25,1.25)\n",
        "plt.show()"
      ],
      "execution_count": 0,
      "outputs": [
        {
          "output_type": "display_data",
          "data": {
            "image/png": "[encoded data removed]",
            "text/plain": [
              "<Figure size 360x360 with 1 Axes>"
            ]
          },
          "metadata": {
            "tags": [],
            "needs_background": "light"
          }
        }
      ]
    },
    {
      "cell_type": "code",
      "metadata": {
        "id": "GcR4HpXcN7GS",
        "colab_type": "code",
        "colab": {}
      },
      "source": [
        "df_5m.drop(df_5m.columns[df_5m.columns.str.contains('color',case = False)],axis = 1, inplace = True)"
      ],
      "execution_count": 0,
      "outputs": []
    },
    {
      "cell_type": "code",
      "metadata": {
        "id": "3D8Y6EeON0VC",
        "colab_type": "code",
        "outputId": "5aac286d-8721-48a7-fd9c-1556ef6b3c64",
        "colab": {
          "base_uri": "https://localhost:8080/",
          "height": 33
        }
      },
      "source": [
        "silhouette_avg = metrics.silhouette_score(df_5m, df_5m['cluster'])\n",
        "print ('silhouette coefficient for the clustering above = ', silhouette_avg)"
      ],
      "execution_count": 0,
      "outputs": [
        {
          "output_type": "stream",
          "text": [
            "silhouette coefficient for the clustering above =  0.7976649805186843\n"
          ],
          "name": "stdout"
        }
      ]
    },
    {
      "cell_type": "markdown",
      "metadata": {
        "colab_type": "text",
        "id": "6hr-8mmi2SVw"
      },
      "source": [
        "##Cluster = 6"
      ]
    },
    {
      "cell_type": "code",
      "metadata": {
        "colab_type": "code",
        "id": "ZJ1WfmjJ2SVx",
        "colab": {}
      },
      "source": [
        "df_scaled = pd.read_csv(\"drive/My Drive/Damin/25k_scaled_fire_archive.csv\")"
      ],
      "execution_count": 0,
      "outputs": []
    },
    {
      "cell_type": "code",
      "metadata": {
        "colab_type": "code",
        "id": "cHHuCTgb2SVy",
        "colab": {}
      },
      "source": [
        "df_6m = df_scaled\n",
        "\n",
        "clustering_kmedoids = KMedoids(n_clusters=6)\n",
        "df_6m['cluster'] = clustering_kmedoids.fit_predict(df_6m)\n",
        "\n",
        "df_6m.loc[df_6m['cluster'] == 0, 'color'] = 'r'\n",
        "df_6m.loc[df_6m['cluster'] == 1, 'color'] = 'g'\n",
        "df_6m.loc[df_6m['cluster'] == 2, 'color'] = 'b'\n",
        "df_6m.loc[df_6m['cluster'] == 3, 'color'] = 'y'\n",
        "df_6m.loc[df_6m['cluster'] == 4, 'color'] = 'c'\n",
        "df_6m.loc[df_6m['cluster'] == 5, 'color'] = 'm'"
      ],
      "execution_count": 0,
      "outputs": []
    },
    {
      "cell_type": "code",
      "metadata": {
        "colab_type": "code",
        "outputId": "9844b5a1-544a-4b4e-fdf2-d900f9aef254",
        "id": "2sSG0OnN2SV1",
        "colab": {
          "base_uri": "https://localhost:8080/",
          "height": 336
        }
      },
      "source": [
        "fig = plt.figure(figsize=(5,5))\n",
        "plt.scatter(df_6m['longitude'], df_6m['latitude'], color =df_6m['color'])\n",
        "plt.title('K-Medoids Clustering with 6 cluster')\n",
        "plt.xlim(-0.25,1.25) \n",
        "plt.ylim(-0.25,1.25)\n",
        "plt.show()"
      ],
      "execution_count": 0,
      "outputs": [
        {
          "output_type": "display_data",
          "data": {
            "image/png": "[encoded data removed]",
            "text/plain": [
              "<Figure size 360x360 with 1 Axes>"
            ]
          },
          "metadata": {
            "tags": [],
            "needs_background": "light"
          }
        }
      ]
    },
    {
      "cell_type": "code",
      "metadata": {
        "id": "o3g13EA2OKGz",
        "colab_type": "code",
        "colab": {}
      },
      "source": [
        "df_6m.drop(df_6m.columns[df_6m.columns.str.contains('color',case = False)],axis = 1, inplace = True)"
      ],
      "execution_count": 0,
      "outputs": []
    },
    {
      "cell_type": "code",
      "metadata": {
        "id": "2zYdCH_kOVBh",
        "colab_type": "code",
        "outputId": "77867595-0ded-4601-afba-e085345fd541",
        "colab": {
          "base_uri": "https://localhost:8080/",
          "height": 33
        }
      },
      "source": [
        "silhouette_avg = metrics.silhouette_score(df_6m, df_6m['cluster'])\n",
        "print ('silhouette coefficient for the clustering above = ', silhouette_avg)"
      ],
      "execution_count": 0,
      "outputs": [
        {
          "output_type": "stream",
          "text": [
            "silhouette coefficient for the clustering above =  0.8094919126707814\n"
          ],
          "name": "stdout"
        }
      ]
    },
    {
      "cell_type": "markdown",
      "metadata": {
        "colab_type": "text",
        "id": "vEn7VNYf2SV-"
      },
      "source": [
        "##Comparison of each clustering's values"
      ]
    },
    {
      "cell_type": "code",
      "metadata": {
        "colab_type": "code",
        "outputId": "04929b49-901a-4869-a8ba-a78dd9bf4df2",
        "id": "izDsIQKa2SV_",
        "colab": {
          "base_uri": "https://localhost:8080/",
          "height": 67
        }
      },
      "source": [
        "df_2m['cluster'].value_counts()"
      ],
      "execution_count": 0,
      "outputs": [
        {
          "output_type": "execute_result",
          "data": {
            "text/plain": [
              "1    15542\n",
              "0     9458\n",
              "Name: cluster, dtype: int64"
            ]
          },
          "metadata": {
            "tags": []
          },
          "execution_count": 74
        }
      ]
    },
    {
      "cell_type": "code",
      "metadata": {
        "colab_type": "code",
        "outputId": "b7aedf31-3445-4410-b63d-0addf816c137",
        "id": "BQ9gFEjk2SWA",
        "colab": {
          "base_uri": "https://localhost:8080/",
          "height": 83
        }
      },
      "source": [
        "df_3m['cluster'].value_counts()"
      ],
      "execution_count": 0,
      "outputs": [
        {
          "output_type": "execute_result",
          "data": {
            "text/plain": [
              "2    10643\n",
              "0     9259\n",
              "1     5098\n",
              "Name: cluster, dtype: int64"
            ]
          },
          "metadata": {
            "tags": []
          },
          "execution_count": 75
        }
      ]
    },
    {
      "cell_type": "code",
      "metadata": {
        "colab_type": "code",
        "outputId": "1ccb9e54-7735-4a94-d669-8a8538cde4fa",
        "id": "fYpz6e9v2SWE",
        "colab": {
          "base_uri": "https://localhost:8080/",
          "height": 100
        }
      },
      "source": [
        "df_4m['cluster'].value_counts()"
      ],
      "execution_count": 0,
      "outputs": [
        {
          "output_type": "execute_result",
          "data": {
            "text/plain": [
              "0    8393\n",
              "3    7493\n",
              "2    6115\n",
              "1    2999\n",
              "Name: cluster, dtype: int64"
            ]
          },
          "metadata": {
            "tags": []
          },
          "execution_count": 76
        }
      ]
    },
    {
      "cell_type": "code",
      "metadata": {
        "colab_type": "code",
        "outputId": "c89834db-bec2-4584-9c55-3b58372b4a2e",
        "id": "YA9FoD4C2SWH",
        "colab": {
          "base_uri": "https://localhost:8080/",
          "height": 117
        }
      },
      "source": [
        "df_5m['cluster'].value_counts()"
      ],
      "execution_count": 0,
      "outputs": [
        {
          "output_type": "execute_result",
          "data": {
            "text/plain": [
              "4    6961\n",
              "3    5267\n",
              "1    4997\n",
              "2    4297\n",
              "0    3478\n",
              "Name: cluster, dtype: int64"
            ]
          },
          "metadata": {
            "tags": []
          },
          "execution_count": 77
        }
      ]
    },
    {
      "cell_type": "code",
      "metadata": {
        "colab_type": "code",
        "outputId": "7be0612c-0c8e-4fd3-eb02-6ff32daf0db2",
        "id": "Lzt5bqhG2SWK",
        "colab": {
          "base_uri": "https://localhost:8080/",
          "height": 133
        }
      },
      "source": [
        "df_6m['cluster'].value_counts()"
      ],
      "execution_count": 0,
      "outputs": [
        {
          "output_type": "execute_result",
          "data": {
            "text/plain": [
              "1    6211\n",
              "0    5096\n",
              "5    4501\n",
              "2    3475\n",
              "3    3027\n",
              "4    2690\n",
              "Name: cluster, dtype: int64"
            ]
          },
          "metadata": {
            "tags": []
          },
          "execution_count": 78
        }
      ]
    }
  ]
}